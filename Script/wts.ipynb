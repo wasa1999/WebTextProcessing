{
 "cells": [
  {
   "cell_type": "code",
   "execution_count": 1,
   "metadata": {},
   "outputs": [],
   "source": [
    "import numpy as np\n",
    "import pandas as pd\n",
    "import os\n",
    "import spacy"
   ]
  },
  {
   "cell_type": "code",
   "execution_count": 2,
   "metadata": {},
   "outputs": [],
   "source": [
    "path = os.getcwd()\n",
    "train_data = \"/sfc_pn_train.csv\"\n",
    "test_data = \"/sfc_pn_test.csv\""
   ]
  },
  {
   "cell_type": "code",
   "execution_count": 3,
   "metadata": {},
   "outputs": [
    {
     "name": "stdout",
     "output_type": "stream",
     "text": [
      "/Users/wasa/myPython/NLP/projects/WebTextProcessing/Data\n",
      "/Users/wasa/myPython/NLP/projects/WebTextProcessing/Output\n"
     ]
    }
   ],
   "source": [
    "datapath = os.path.split(path)[0] + os.path.join(\"/Data\")\n",
    "outputpath = os.path.split(path)[0]+ os.path.join(\"/Output\")\n",
    "print(datapath)\n",
    "print(outputpath)\n",
    "                "
   ]
  },
  {
   "cell_type": "code",
   "execution_count": 4,
   "metadata": {},
   "outputs": [
    {
     "data": {
      "text/html": [
       "<div>\n",
       "<style scoped>\n",
       "    .dataframe tbody tr th:only-of-type {\n",
       "        vertical-align: middle;\n",
       "    }\n",
       "\n",
       "    .dataframe tbody tr th {\n",
       "        vertical-align: top;\n",
       "    }\n",
       "\n",
       "    .dataframe thead th {\n",
       "        text-align: right;\n",
       "    }\n",
       "</style>\n",
       "<table border=\"1\" class=\"dataframe\">\n",
       "  <thead>\n",
       "    <tr style=\"text-align: right;\">\n",
       "      <th></th>\n",
       "      <th>gender</th>\n",
       "      <th>year</th>\n",
       "      <th>kind</th>\n",
       "      <th>opinion</th>\n",
       "    </tr>\n",
       "  </thead>\n",
       "  <tbody>\n",
       "    <tr>\n",
       "      <th>0</th>\n",
       "      <td>male</td>\n",
       "      <td>3rd</td>\n",
       "      <td>positive</td>\n",
       "      <td>慶應生でもあり、SFC生でもあること。就活などで慶應生に会うと親近感が湧いてくる。だが、SF...</td>\n",
       "    </tr>\n",
       "    <tr>\n",
       "      <th>1</th>\n",
       "      <td>female</td>\n",
       "      <td>1st</td>\n",
       "      <td>negative</td>\n",
       "      <td>外国語のインテンシブが普通の授業よりも１０分長く、全く集中が続かない。しかも休み時間は変わら...</td>\n",
       "    </tr>\n",
       "    <tr>\n",
       "      <th>2</th>\n",
       "      <td>male</td>\n",
       "      <td>3rd</td>\n",
       "      <td>positive</td>\n",
       "      <td>研究会は研究会等名前であるが実際はサークルのようなものであり、気軽に出入りすることができる、...</td>\n",
       "    </tr>\n",
       "    <tr>\n",
       "      <th>3</th>\n",
       "      <td>male</td>\n",
       "      <td>1st</td>\n",
       "      <td>negative</td>\n",
       "      <td>SFCは自然が豊かであるがために、虫がキャンパス内を横行する。朝はそんなに見かけることはない...</td>\n",
       "    </tr>\n",
       "    <tr>\n",
       "      <th>4</th>\n",
       "      <td>male</td>\n",
       "      <td>1st</td>\n",
       "      <td>positive</td>\n",
       "      <td>キャンパスの雰囲気がよいところ。郊外に位置し駅からも遠いため閑静であり、敷地は開放感があり緑...</td>\n",
       "    </tr>\n",
       "  </tbody>\n",
       "</table>\n",
       "</div>"
      ],
      "text/plain": [
       "   gender year      kind                                            opinion\n",
       "0    male  3rd  positive  慶應生でもあり、SFC生でもあること。就活などで慶應生に会うと親近感が湧いてくる。だが、SF...\n",
       "1  female  1st  negative  外国語のインテンシブが普通の授業よりも１０分長く、全く集中が続かない。しかも休み時間は変わら...\n",
       "2    male  3rd  positive  研究会は研究会等名前であるが実際はサークルのようなものであり、気軽に出入りすることができる、...\n",
       "3    male  1st  negative  SFCは自然が豊かであるがために、虫がキャンパス内を横行する。朝はそんなに見かけることはない...\n",
       "4    male  1st  positive  キャンパスの雰囲気がよいところ。郊外に位置し駅からも遠いため閑静であり、敷地は開放感があり緑..."
      ]
     },
     "execution_count": 4,
     "metadata": {},
     "output_type": "execute_result"
    }
   ],
   "source": [
    "train_df = pd.read_csv(datapath + os.path.join(train_data), header=None)\n",
    "train_df.columns = [\"gender\", \"year\", \"kind\", \"opinion\"]\n",
    "test_df = pd.read_csv(datapath + os.path.join(test_data), header=None)\n",
    "test_df.columns = [\"gender\", \"year\", \"kind\", \"opinion\"]\n",
    "train_df.head(5)"
   ]
  },
  {
   "cell_type": "code",
   "execution_count": 5,
   "metadata": {},
   "outputs": [],
   "source": [
    "pos_df = train_df[train_df['kind'] == 'positive'].reset_index()\n",
    "neg_df = train_df[train_df['kind'] == 'negative'].reset_index()"
   ]
  },
  {
   "cell_type": "code",
   "execution_count": 6,
   "metadata": {},
   "outputs": [
    {
     "data": {
      "text/html": [
       "<div>\n",
       "<style scoped>\n",
       "    .dataframe tbody tr th:only-of-type {\n",
       "        vertical-align: middle;\n",
       "    }\n",
       "\n",
       "    .dataframe tbody tr th {\n",
       "        vertical-align: top;\n",
       "    }\n",
       "\n",
       "    .dataframe thead th {\n",
       "        text-align: right;\n",
       "    }\n",
       "</style>\n",
       "<table border=\"1\" class=\"dataframe\">\n",
       "  <thead>\n",
       "    <tr style=\"text-align: right;\">\n",
       "      <th></th>\n",
       "      <th>index</th>\n",
       "      <th>gender</th>\n",
       "      <th>year</th>\n",
       "      <th>kind</th>\n",
       "      <th>opinion</th>\n",
       "    </tr>\n",
       "  </thead>\n",
       "  <tbody>\n",
       "    <tr>\n",
       "      <th>0</th>\n",
       "      <td>0</td>\n",
       "      <td>male</td>\n",
       "      <td>3rd</td>\n",
       "      <td>positive</td>\n",
       "      <td>慶應生でもあり、SFC生でもあること。就活などで慶應生に会うと親近感が湧いてくる。だが、SF...</td>\n",
       "    </tr>\n",
       "    <tr>\n",
       "      <th>1</th>\n",
       "      <td>2</td>\n",
       "      <td>male</td>\n",
       "      <td>3rd</td>\n",
       "      <td>positive</td>\n",
       "      <td>研究会は研究会等名前であるが実際はサークルのようなものであり、気軽に出入りすることができる、...</td>\n",
       "    </tr>\n",
       "    <tr>\n",
       "      <th>2</th>\n",
       "      <td>4</td>\n",
       "      <td>male</td>\n",
       "      <td>1st</td>\n",
       "      <td>positive</td>\n",
       "      <td>キャンパスの雰囲気がよいところ。郊外に位置し駅からも遠いため閑静であり、敷地は開放感があり緑...</td>\n",
       "    </tr>\n",
       "    <tr>\n",
       "      <th>3</th>\n",
       "      <td>6</td>\n",
       "      <td>male</td>\n",
       "      <td>3rd</td>\n",
       "      <td>positive</td>\n",
       "      <td>研究室が充実している。いろいろな施設があって学生証あればパソコンのある部屋に自由に出入りでき...</td>\n",
       "    </tr>\n",
       "    <tr>\n",
       "      <th>4</th>\n",
       "      <td>8</td>\n",
       "      <td>male</td>\n",
       "      <td>1st</td>\n",
       "      <td>positive</td>\n",
       "      <td>慶應義塾大学湘南藤沢キャンパスに通う生徒の個性が豊かであり、様々な分野の活動が見受けられる。...</td>\n",
       "    </tr>\n",
       "  </tbody>\n",
       "</table>\n",
       "</div>"
      ],
      "text/plain": [
       "   index gender year      kind  \\\n",
       "0      0   male  3rd  positive   \n",
       "1      2   male  3rd  positive   \n",
       "2      4   male  1st  positive   \n",
       "3      6   male  3rd  positive   \n",
       "4      8   male  1st  positive   \n",
       "\n",
       "                                             opinion  \n",
       "0  慶應生でもあり、SFC生でもあること。就活などで慶應生に会うと親近感が湧いてくる。だが、SF...  \n",
       "1  研究会は研究会等名前であるが実際はサークルのようなものであり、気軽に出入りすることができる、...  \n",
       "2  キャンパスの雰囲気がよいところ。郊外に位置し駅からも遠いため閑静であり、敷地は開放感があり緑...  \n",
       "3  研究室が充実している。いろいろな施設があって学生証あればパソコンのある部屋に自由に出入りでき...  \n",
       "4  慶應義塾大学湘南藤沢キャンパスに通う生徒の個性が豊かであり、様々な分野の活動が見受けられる。...  "
      ]
     },
     "execution_count": 6,
     "metadata": {},
     "output_type": "execute_result"
    }
   ],
   "source": [
    "pos_df.head(5)"
   ]
  },
  {
   "cell_type": "code",
   "execution_count": 7,
   "metadata": {},
   "outputs": [
    {
     "data": {
      "text/html": [
       "<div>\n",
       "<style scoped>\n",
       "    .dataframe tbody tr th:only-of-type {\n",
       "        vertical-align: middle;\n",
       "    }\n",
       "\n",
       "    .dataframe tbody tr th {\n",
       "        vertical-align: top;\n",
       "    }\n",
       "\n",
       "    .dataframe thead th {\n",
       "        text-align: right;\n",
       "    }\n",
       "</style>\n",
       "<table border=\"1\" class=\"dataframe\">\n",
       "  <thead>\n",
       "    <tr style=\"text-align: right;\">\n",
       "      <th></th>\n",
       "      <th>index</th>\n",
       "      <th>gender</th>\n",
       "      <th>year</th>\n",
       "      <th>kind</th>\n",
       "      <th>opinion</th>\n",
       "    </tr>\n",
       "  </thead>\n",
       "  <tbody>\n",
       "    <tr>\n",
       "      <th>0</th>\n",
       "      <td>1</td>\n",
       "      <td>female</td>\n",
       "      <td>1st</td>\n",
       "      <td>negative</td>\n",
       "      <td>外国語のインテンシブが普通の授業よりも１０分長く、全く集中が続かない。しかも休み時間は変わら...</td>\n",
       "    </tr>\n",
       "    <tr>\n",
       "      <th>1</th>\n",
       "      <td>3</td>\n",
       "      <td>male</td>\n",
       "      <td>1st</td>\n",
       "      <td>negative</td>\n",
       "      <td>SFCは自然が豊かであるがために、虫がキャンパス内を横行する。朝はそんなに見かけることはない...</td>\n",
       "    </tr>\n",
       "    <tr>\n",
       "      <th>2</th>\n",
       "      <td>5</td>\n",
       "      <td>male</td>\n",
       "      <td>1st</td>\n",
       "      <td>negative</td>\n",
       "      <td>交通アクセスが不便です。湘南台駅からバス、自転車を使わないと学校にはつけない距離です。一度駅...</td>\n",
       "    </tr>\n",
       "    <tr>\n",
       "      <th>3</th>\n",
       "      <td>7</td>\n",
       "      <td>male</td>\n",
       "      <td>1st</td>\n",
       "      <td>negative</td>\n",
       "      <td>キャンパスが都心から遠いため、通学にかなりの時間がかかるところ。さらに、駅からも遠い上に公共...</td>\n",
       "    </tr>\n",
       "    <tr>\n",
       "      <th>4</th>\n",
       "      <td>9</td>\n",
       "      <td>male</td>\n",
       "      <td>1st</td>\n",
       "      <td>negative</td>\n",
       "      <td>駅からキャンパスまでバスで移動しなければならないということである。バスの本数は多い方だと思う...</td>\n",
       "    </tr>\n",
       "  </tbody>\n",
       "</table>\n",
       "</div>"
      ],
      "text/plain": [
       "   index  gender year      kind  \\\n",
       "0      1  female  1st  negative   \n",
       "1      3    male  1st  negative   \n",
       "2      5    male  1st  negative   \n",
       "3      7    male  1st  negative   \n",
       "4      9    male  1st  negative   \n",
       "\n",
       "                                             opinion  \n",
       "0  外国語のインテンシブが普通の授業よりも１０分長く、全く集中が続かない。しかも休み時間は変わら...  \n",
       "1  SFCは自然が豊かであるがために、虫がキャンパス内を横行する。朝はそんなに見かけることはない...  \n",
       "2  交通アクセスが不便です。湘南台駅からバス、自転車を使わないと学校にはつけない距離です。一度駅...  \n",
       "3  キャンパスが都心から遠いため、通学にかなりの時間がかかるところ。さらに、駅からも遠い上に公共...  \n",
       "4  駅からキャンパスまでバスで移動しなければならないということである。バスの本数は多い方だと思う...  "
      ]
     },
     "execution_count": 7,
     "metadata": {},
     "output_type": "execute_result"
    }
   ],
   "source": [
    "neg_df.head(5)"
   ]
  },
  {
   "cell_type": "code",
   "execution_count": 8,
   "metadata": {},
   "outputs": [
    {
     "ename": "AttributeError",
     "evalue": "module 'spacy' has no attribute 'load'",
     "output_type": "error",
     "traceback": [
      "\u001b[0;31m------------------------------------------------------\u001b[0m",
      "\u001b[0;31mAttributeError\u001b[0m       Traceback (most recent call last)",
      "\u001b[0;32m<ipython-input-8-35c337fa312b>\u001b[0m in \u001b[0;36m<module>\u001b[0;34m\u001b[0m\n\u001b[0;32m----> 1\u001b[0;31m \u001b[0mnlp\u001b[0m \u001b[0;34m=\u001b[0m \u001b[0mspacy\u001b[0m\u001b[0;34m.\u001b[0m\u001b[0mload\u001b[0m\u001b[0;34m(\u001b[0m\u001b[0;34m'ja_ginza_nopn'\u001b[0m\u001b[0;34m)\u001b[0m\u001b[0;34m\u001b[0m\u001b[0;34m\u001b[0m\u001b[0m\n\u001b[0m",
      "\u001b[0;31mAttributeError\u001b[0m: module 'spacy' has no attribute 'load'"
     ]
    }
   ],
   "source": [
    "nlp = spacy.load('ja_ginza_nopn')"
   ]
  },
  {
   "cell_type": "code",
   "execution_count": null,
   "metadata": {},
   "outputs": [],
   "source": []
  },
  {
   "cell_type": "code",
   "execution_count": null,
   "metadata": {},
   "outputs": [],
   "source": [
    "def parse(df, key):\n",
    "    res = np.array([])\n",
    "    for i in range(len(df.index)):\n",
    "        for sent in nlp(df.loc[i][key].strip()).sents:\n",
    "            for token in sent:\n",
    "                res = np.append(res, token.lemma_)\n",
    "                \n",
    "#                 print(token.i)\n",
    "#                 print(token.orth_)\n",
    "#                 print(token.lemma_)\n",
    "#                 print(token.pos_)\n",
    "#                 print(token._.pos_detail)\n",
    "    return res"
   ]
  },
  {
   "cell_type": "code",
   "execution_count": null,
   "metadata": {},
   "outputs": [],
   "source": [
    "pos_count = parse(pos_df, 'opinion')\n",
    "pos_count_s = pd.Series(pos_count).value_counts()\n",
    "word = pos_count_s.index\n",
    "pos_count_df = pd.DataFrame({\"word\": word, \"count\" : pos_count_s.values})"
   ]
  },
  {
   "cell_type": "code",
   "execution_count": null,
   "metadata": {},
   "outputs": [],
   "source": [
    "neg_count = parse(neg_df, 'opinion')\n",
    "neg_count_s = pd.Series(neg_count).value_counts()\n",
    "word = neg_count_s.index\n",
    "neg_count_df = pd.DataFrame({\"word\": word, \"count\" : neg_count_s.values})"
   ]
  },
  {
   "cell_type": "code",
   "execution_count": null,
   "metadata": {},
   "outputs": [],
   "source": [
    "all_count = parse(train_df, 'opinion')\n",
    "all_count_s = pd.Series(all_count).value_counts()\n",
    "word = all_count_s.index\n",
    "all_count_df = pd.DataFrame({\"word\": word, \"count\" : all_count_s.values})"
   ]
  },
  {
   "cell_type": "code",
   "execution_count": null,
   "metadata": {},
   "outputs": [],
   "source": [
    "pos_count_df.info()\n",
    "pos_count_df.head(5)"
   ]
  },
  {
   "cell_type": "code",
   "execution_count": null,
   "metadata": {},
   "outputs": [],
   "source": [
    "neg_count_df.info()\n",
    "neg_count_df.head(5)"
   ]
  },
  {
   "cell_type": "code",
   "execution_count": null,
   "metadata": {},
   "outputs": [],
   "source": [
    "all_count_df.info()\n",
    "all_count_df.head(5)"
   ]
  },
  {
   "cell_type": "code",
   "execution_count": null,
   "metadata": {},
   "outputs": [],
   "source": [
    "import math"
   ]
  },
  {
   "cell_type": "code",
   "execution_count": null,
   "metadata": {},
   "outputs": [],
   "source": [
    "merged_df = pd.merge(all_count_df, pos_count_df, on=\"word\", how=\"left\")\n",
    "merged_df = pd.merge(merged_df, neg_count_df, on=\"word\", how=\"left\").fillna(0)\n",
    "merged_df.columns = [\"word\", \"all\", \"pos\", \"neg\"]\n",
    "merged_df['pos_prob'] = merged_df['pos'] / merged_df['all']\n",
    "merged_df['neg_prob'] = merged_df['neg'] / merged_df['all']\n",
    "merged_df['pos_prob'] = merged_df['pos_prob'].apply(lambda x: 0.01 if x < 0.01 else x )\n",
    "merged_df['neg_prob'] = merged_df['neg_prob'].apply(lambda x: 0.01 if x < 0.01 else x )\n",
    "merged_df['log_pos_prob'] = merged_df['pos_prob'].apply(lambda x : math.log(x))\n",
    "merged_df['log_neg_prob'] = merged_df['neg_prob'].apply(lambda x : math.log(x))"
   ]
  },
  {
   "cell_type": "code",
   "execution_count": null,
   "metadata": {},
   "outputs": [],
   "source": [
    "merged_df"
   ]
  },
  {
   "cell_type": "code",
   "execution_count": null,
   "metadata": {},
   "outputs": [],
   "source": [
    "pos_prob = len(pos_df.index) / len(train_df.index)\n",
    "neg_prob = len(neg_df.index) / len(train_df.index)"
   ]
  },
  {
   "cell_type": "code",
   "execution_count": null,
   "metadata": {},
   "outputs": [],
   "source": [
    "def classfication(prob_df, test_df):\n",
    "    return_df = test_df.copy()\n",
    "    return_df[\"predict_result\"] = 0\n",
    "    for i in range(len(test_df.index)):\n",
    "        for sent in nlp(test_df.loc[i]['opinion'].strip()).sents:\n",
    "            print(\"________\")\n",
    "            pos_probability = pos_prob\n",
    "            neg_probability = neg_prob\n",
    "            for token in sent:\n",
    "                word = token.lemma_\n",
    "                print(word)\n",
    "                if word in prob_df['word'].values:\n",
    "                    print('YES')\n",
    "                    col = prob_df[prob_df['word'] == word]\n",
    "                    print(col)\n",
    "                    pos_probability += col['log_pos_prob'].values\n",
    "                    neg_probability += col['log_neg_prob'].values\n",
    "                    print(pos_probability)\n",
    "                    print(neg_probability)\n",
    "                    return_df.loc[i, 'predict_result'] = \"positive\" if pos_probability > neg_probability else \"negative\"\n",
    "                    print(return_df.loc[i, 'predict_result'])\n",
    "    return return_df\n",
    "                \n",
    "    "
   ]
  },
  {
   "cell_type": "code",
   "execution_count": null,
   "metadata": {},
   "outputs": [],
   "source": [
    "result = classfication(merged_df, test_df)"
   ]
  },
  {
   "cell_type": "code",
   "execution_count": null,
   "metadata": {},
   "outputs": [],
   "source": [
    "result"
   ]
  },
  {
   "cell_type": "code",
   "execution_count": null,
   "metadata": {},
   "outputs": [],
   "source": [
    "result['YES'] = [1 if result.loc[i]['kind'] == result.loc[i]['predict_result'] else 0 for i in range(len(result.index))]"
   ]
  },
  {
   "cell_type": "code",
   "execution_count": null,
   "metadata": {},
   "outputs": [],
   "source": [
    "result"
   ]
  },
  {
   "cell_type": "code",
   "execution_count": null,
   "metadata": {},
   "outputs": [],
   "source": [
    "check = list(result['YES'].values)\n",
    "check.count(1)"
   ]
  },
  {
   "cell_type": "code",
   "execution_count": null,
   "metadata": {
    "scrolled": true
   },
   "outputs": [],
   "source": [
    "print(\"accuracy is {}\".format(check.count(1) / len(result.index)))"
   ]
  },
  {
   "cell_type": "code",
   "execution_count": null,
   "metadata": {},
   "outputs": [],
   "source": [
    "test_df.head(5)"
   ]
  },
  {
   "cell_type": "code",
   "execution_count": null,
   "metadata": {},
   "outputs": [],
   "source": []
  }
 ],
 "metadata": {
  "kernelspec": {
   "display_name": "Python 3",
   "language": "python",
   "name": "python3"
  },
  "language_info": {
   "codemirror_mode": {
    "name": "ipython",
    "version": 3
   },
   "file_extension": ".py",
   "mimetype": "text/x-python",
   "name": "python",
   "nbconvert_exporter": "python",
   "pygments_lexer": "ipython3",
   "version": "3.7.4"
  }
 },
 "nbformat": 4,
 "nbformat_minor": 2
}
